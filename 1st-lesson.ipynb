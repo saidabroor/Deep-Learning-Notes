{
 "cells": [
  {
   "cell_type": "code",
   "execution_count": 2,
   "id": "d1c2d6dd",
   "metadata": {},
   "outputs": [],
   "source": [
    "import pandas as pd"
   ]
  },
  {
   "cell_type": "code",
   "execution_count": null,
   "id": "ced57386",
   "metadata": {},
   "outputs": [],
   "source": [
    "Deep Learning\n",
    "ANN - Artificial Neural Network used for Classification and Regression for Supervised Learning\n",
    "CNN - Convonutional Neural Network - Images and video frames\n",
    "RCNN, Masked RCNN, Detectron, YOLOv5, v6, v7 - Object detection\n",
    "RNN - NLP, Text, Time series data\n",
    "Word embedding, LSTM, GRU RNN, Bidirectional LSTM RNN, BERT\n",
    "\n",
    "Facebook launch - 2005\n",
    "2011 - 2012 - Data generation, Company concerns about storing data (Big Data, Hadoop)\n",
    "\n",
    "Hardware Requirement - price decrease - train model easily\n",
    "efficient way of storing data? --> using this data -- how? -- create AI models\n",
    "Performance increases as data is being genarated and added to the model - DL\n",
    "Performance will not increase even if data input increases in the model - ML\n",
    "Opensource frameworks\n",
    "\n",
    "Examples - Medical, E-commerce, Retails, Marketing\n",
    "\n",
    "Perceptron - simple ANN (single layer NN) - used in binary classifer\n",
    "\n",
    "features (column 1, column 2) --> input layer --> (to make it simple unit) hidden layer 1  (hidden layer 1 is a neuron)\n",
    "two tasks are done in hidden layer 1 and output is given\n",
    "Input layer connectors to Hidden layer are weights (weight 1 and weight 2)\n",
    "\n",
    "Imagine there is a hot object placed on your hand and your brain notices that there is an object which is hot that may harm your hand.\n",
    "How is this process gone? Through neurons. Weighs carry information or connects neurons.\n",
    "\n",
    "\n",
    "In hidden layer 1 (or neuron) there are two steps going on.\n",
    "Step 1 is weight1 multplied by x1 + weight2 multiplied by x2 + b\n",
    "Formula: z = (w1 *x1) + (w2 * x2) + b\n",
    "x - input (x1 --> first feature, x2 --> second feature)\n",
    "w - weight (any random number) means how important that input is (model learns)\n",
    "bias --> noise (in linear regression terms, it is called intercept)\n",
    "\n",
    "In Step 2, Activation function Act() will be applied on top of zed value coming from step 1\n",
    "Activation function transforms output between some values such as 0 - 1, -1 + 1.\n",
    "\n",
    "There are different kinds of Activation functions such as Step Function, Sigmoid function\n",
    "\n",
    "Step function - threshold is 0. if value is < 0 then it will become 0. If value is > 0 then it will become 1.\n",
    "\n",
    "Sigmoid function - threshold is 0.5. if value is < 0.5 then it will become 0. If value is > 0.5 then it will become 1.\n",
    "\n",
    "To reduce error, weights should be updated.\n",
    "Loss function - error.\n",
    "If all records are taken at once, it is called cost function.\n",
    "\n",
    "\n",
    "\n",
    "Perceptron is a linear classifier.\n",
    "y = mx + c\n",
    "y = b0 + b1 + b2 + b3 ..... + BnXn - Linear problem statement\n",
    "\n",
    "There are single layer perceptron models and multi layer perceptron models.\n",
    "ANN - Multi layer perceptron models\n",
    "\n",
    "Feed Forward Neural Network --> from feature, input layer, hidden layer step 1 and step 2\n",
    "\n",
    "Linear separable problems are solved using this.\n",
    "Binary classification problems which are linearly separated.\n",
    "\n",
    "Non linear separable network - multilayer neural network is used.\n",
    "\n"
   ]
  },
  {
   "cell_type": "code",
   "execution_count": null,
   "id": "e09763dc",
   "metadata": {},
   "outputs": [],
   "source": []
  }
 ],
 "metadata": {
  "kernelspec": {
   "display_name": "Python 3",
   "language": "python",
   "name": "python3"
  },
  "language_info": {
   "codemirror_mode": {
    "name": "ipython",
    "version": 3
   },
   "file_extension": ".py",
   "mimetype": "text/x-python",
   "name": "python",
   "nbconvert_exporter": "python",
   "pygments_lexer": "ipython3",
   "version": "3.13.2"
  }
 },
 "nbformat": 4,
 "nbformat_minor": 5
}
