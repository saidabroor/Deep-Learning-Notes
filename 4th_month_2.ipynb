{
 "cells": [
  {
   "cell_type": "markdown",
   "id": "50614415",
   "metadata": {},
   "source": [
    "# Class"
   ]
  },
  {
   "cell_type": "code",
   "execution_count": null,
   "id": "e69cef5e",
   "metadata": {},
   "outputs": [],
   "source": [
    "Classlar OOP ning skeleti. Classlarning ichida attributelar bo'ladi va ulardan foydalanish uchun functionlardan foydalaniladi.\n",
    "\n",
    "Nima uchun kerak:\n",
    "- better code organization \n",
    "- group related data\n",
    "- reusability, scalability\n",
    "- easier maintainance"
   ]
  },
  {
   "cell_type": "code",
   "execution_count": 1,
   "id": "fa30b2e0",
   "metadata": {},
   "outputs": [],
   "source": [
    "class Calculator:\n",
    "  def __init__(self, a, b):\n",
    "    self.a = a\n",
    "    self.b = b\n",
    "\n",
    "  def qosh(self):\n",
    "    return self.a + self.b\n",
    "\n",
    "  def ayri(self):\n",
    "    return self.a - self.b\n",
    "    "
   ]
  },
  {
   "cell_type": "code",
   "execution_count": 2,
   "id": "715d8351",
   "metadata": {},
   "outputs": [],
   "source": [
    "class checker:\n",
    "  def __init__(self,x):\n",
    "    self.x = x\n",
    "\n",
    "  def check(self):\n",
    "    if self.x % 2 == 0:\n",
    "      return 'Juft son'\n",
    "    else:\n",
    "      return 'Toq son'\n"
   ]
  },
  {
   "cell_type": "code",
   "execution_count": 6,
   "id": "f286c315",
   "metadata": {},
   "outputs": [
    {
     "name": "stdout",
     "output_type": "stream",
     "text": [
      "Juft son\n"
     ]
    }
   ],
   "source": [
    "result = checker(12)\n",
    "print(result.check())"
   ]
  },
  {
   "cell_type": "markdown",
   "id": "7d8b51c2",
   "metadata": {},
   "source": [
    "# Notebook"
   ]
  },
  {
   "cell_type": "code",
   "execution_count": null,
   "id": "28515ce6",
   "metadata": {},
   "outputs": [],
   "source": [
    "Notebook degan folder ichida data degan folder uning ichida dataset bo'ladi.\n",
    "\n",
    "Undan tashqari, problem statement, EDA, Model Training qismlari bo'ladi.\n",
    "\n",
    "Bu filedan maqsad, ipynb ekanligi va ipynb da ishlash py file dan ko'ra osonligi.\n",
    "\n"
   ]
  },
  {
   "cell_type": "markdown",
   "id": "db6e6d83",
   "metadata": {},
   "source": [
    "# Modular Programming"
   ]
  },
  {
   "cell_type": "code",
   "execution_count": null,
   "id": "bbaf88fc",
   "metadata": {},
   "outputs": [],
   "source": [
    "Modular programming - qismlarga ajratish va qayta ishlatsa bo'ladigan code yozish.\n",
    "%matplotlib inline - alohida boxda emas, codening tagidan visual ko'rinishni chiqarib beradigan code."
   ]
  },
  {
   "cell_type": "code",
   "execution_count": null,
   "id": "cf64284c",
   "metadata": {},
   "outputs": [],
   "source": [
    "DATA INGESTION\n",
    "- collecting\n",
    "- importing\n",
    "- transferring\n",
    "- loading data\n",
    "\n",
    "FROM\n",
    "- database\n",
    "- data warehouse\n",
    "- analytics tool"
   ]
  },
  {
   "cell_type": "code",
   "execution_count": null,
   "id": "81ddfbc0",
   "metadata": {},
   "outputs": [],
   "source": [
    "DECORATOR\n",
    "\n",
    "Decorator - function. Input sifatida oldingi boshqa functionni oladi. Qisqaroq code yozishga imkon beradi."
   ]
  },
  {
   "cell_type": "code",
   "execution_count": null,
   "id": "9af1db59",
   "metadata": {},
   "outputs": [],
   "source": [
    "data_ingestion.py -  Datani yuklash uchun ishlatiladigan file.\n",
    "data_transformation.py - datani tayyorlash, preprocessing va datani qayta ishlash uchun ochiladigan file.\n",
    "\n",
    "model_trainer.py - model training uchun ishlatiladigan file.\n",
    "\n",
    "Exception handling - dastur ishlashda xatolik yuzaga kelganda, tizimga xabar berish, xatolikni hal qilish va dastur ishini uzluksiz davom ettirish uchun kerakli choralarni ko'rish jarayoni. Maqsad kodni barqaror va ishonchli ishlashiga yordam berish.\n",
    "\n",
    "Logging - tizimda yuz berayotgan jarayonlarni, katta-kichik o'zgarishlar, xatoliklar, muhim voqealarni qayd etib borish. Real-timeda oson tracking qilish imkoni va tahlil qilish imkoni bor.\n",
    "\n",
    "utils.py - filening ichida functionlar bo'ladi va bog'lovchi vazifasini o'taydi."
   ]
  },
  {
   "cell_type": "code",
   "execution_count": null,
   "id": "91750e26",
   "metadata": {},
   "outputs": [],
   "source": [
    "pyhton src/components/data_ingestion.py"
   ]
  },
  {
   "cell_type": "code",
   "execution_count": null,
   "id": "d99f1f09",
   "metadata": {},
   "outputs": [],
   "source": []
  }
 ],
 "metadata": {
  "kernelspec": {
   "display_name": "Python 3",
   "language": "python",
   "name": "python3"
  },
  "language_info": {
   "codemirror_mode": {
    "name": "ipython",
    "version": 3
   },
   "file_extension": ".py",
   "mimetype": "text/x-python",
   "name": "python",
   "nbconvert_exporter": "python",
   "pygments_lexer": "ipython3",
   "version": "3.13.2"
  }
 },
 "nbformat": 4,
 "nbformat_minor": 5
}
