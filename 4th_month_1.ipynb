{
 "cells": [
  {
   "cell_type": "code",
   "execution_count": null,
   "id": "c4ae39e2",
   "metadata": {},
   "outputs": [],
   "source": [
    "Set up nima uchun kerak?\n",
    "- Model qurish;\n",
    "- Test qilish;\n",
    "- Ulashish;\n",
    "- Xatolarni to'g'rilash;\n",
    "- Turli holatlarga chidamli (Data/Concept drift);\n",
    "- Deployment qilish."
   ]
  },
  {
   "cell_type": "code",
   "execution_count": null,
   "id": "1ae3c1e4",
   "metadata": {},
   "outputs": [],
   "source": [
    "Set up guide:\n",
    "- New Github repo\n",
    "- New folder in local and copy folder path\n",
    "- Run \"cd  and copied path of the folder in anaconda prompt\"\n",
    "- Run \"code .\" next, it will open vscode\n",
    "- Open terminal and change powershell to command prompt\n",
    "- Run this code on vscode terminal \"conda create -p venv python==3.13.2\"\n",
    "- git status (to check status)\n",
    "- cls (to clear terminal on cmd)\n",
    "- clear (on power shell)\n",
    "- pip install -r requirements.txt"
   ]
  },
  {
   "cell_type": "code",
   "execution_count": null,
   "id": "a9b8cbc9",
   "metadata": {},
   "outputs": [],
   "source": [
    "- conda activate venv/ (changing dir in terminal)\n",
    "- git init\n",
    "- git add .\n",
    "- git commit -m \"first commit\"\n",
    "- git remote add origin https://github.com/saidabroor/NewRepo.git\n",
    "- git push -u origin main\n"
   ]
  },
  {
   "cell_type": "code",
   "execution_count": null,
   "id": "a7af3f75",
   "metadata": {},
   "outputs": [],
   "source": [
    "setup.py is a readme kind of file for python codes in our model.\n",
    "\n",
    "Major, minor, patch - order of release"
   ]
  },
  {
   "cell_type": "code",
   "execution_count": null,
   "id": "3c098ee7",
   "metadata": {},
   "outputs": [],
   "source": [
    "init.py file codelarning markaziy boshqaruv qismi.\n",
    "Python package yoki modul yaratish uchun ishlatiladigan file.\n",
    "Folderda shu file bo'lsa, o'sha folderni package sifatida ko'radi.\n",
    "Modullarni import qilish va paketni boshlash uchun maxsus boshlang'ich kod. Sozlamalar deyish ham mumkin."
   ]
  },
  {
   "cell_type": "code",
   "execution_count": null,
   "id": "aa6385ca",
   "metadata": {},
   "outputs": [],
   "source": [
    "Continuous Integration - modelning data preprocessingdan tortib, oxirgi testinggacha bo'lgan jarayonini avtomatlashtirib berish."
   ]
  },
  {
   "cell_type": "code",
   "execution_count": null,
   "metadata": {},
   "outputs": [],
   "source": [
    "Continous Deployment - deploymentni avtomatlashtirish."
   ]
  },
  {
   "cell_type": "code",
   "execution_count": null,
   "id": "11c3881e",
   "metadata": {},
   "outputs": [],
   "source": [
    "Project structure - hamma narsani o'z o'rniga qo'yish. Ya'ni, loyiha ichidagi file, folder, modullar qanday tashkil qilinishi.\n",
    "\n",
    "Foydalari - kodni oson boshqarish, kodni kengaytirishga yordam berish.\n",
    "\n",
    "Modul - related code group for reusability, organization instead of copying and pasting."
   ]
  },
  {
   "cell_type": "markdown",
   "id": "4d48f05c",
   "metadata": {},
   "source": [
    "Project structure\n",
    " - src\n",
    " - tests (unit tests to check codes)\n",
    " - requirements.txt\n",
    " - README.md\n",
    " - .gitignore (files that should not to be sent to Git)\n",
    " - components (alohida components in project)\n",
    " - pipeline (run the project process and store data)"
   ]
  },
  {
   "cell_type": "code",
   "execution_count": null,
   "id": "d9f0e62a",
   "metadata": {},
   "outputs": [],
   "source": []
  },
  {
   "cell_type": "code",
   "execution_count": null,
   "id": "412cdccd",
   "metadata": {},
   "outputs": [],
   "source": []
  },
  {
   "cell_type": "code",
   "execution_count": null,
   "id": "ff4cbb6c",
   "metadata": {},
   "outputs": [],
   "source": []
  },
  {
   "cell_type": "code",
   "execution_count": null,
   "id": "2264d977",
   "metadata": {},
   "outputs": [],
   "source": []
  },
  {
   "cell_type": "code",
   "execution_count": null,
   "id": "a37a0933",
   "metadata": {},
   "outputs": [],
   "source": []
  },
  {
   "cell_type": "code",
   "execution_count": null,
   "id": "990fbd8c",
   "metadata": {},
   "outputs": [],
   "source": []
  },
  {
   "cell_type": "code",
   "execution_count": null,
   "id": "8ba607be",
   "metadata": {},
   "outputs": [],
   "source": []
  },
  {
   "cell_type": "code",
   "execution_count": null,
   "id": "ccec192f",
   "metadata": {},
   "outputs": [],
   "source": []
  }
 ],
 "metadata": {
  "kernelspec": {
   "display_name": "Python 3",
   "language": "python",
   "name": "python3"
  },
  "language_info": {
   "codemirror_mode": {
    "name": "ipython",
    "version": 3
   },
   "file_extension": ".py",
   "mimetype": "text/x-python",
   "name": "python",
   "nbconvert_exporter": "python",
   "pygments_lexer": "ipython3",
   "version": "3.13.2"
  }
 },
 "nbformat": 4,
 "nbformat_minor": 5
}
