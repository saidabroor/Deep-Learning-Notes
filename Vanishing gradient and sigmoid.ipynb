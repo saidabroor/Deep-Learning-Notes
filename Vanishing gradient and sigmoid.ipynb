{
 "cells": [
  {
   "cell_type": "code",
   "execution_count": null,
   "id": "3d69fa8a",
   "metadata": {},
   "outputs": [],
   "source": [
    "Sigmoid function - maps any number into a range between 0 - 1.\n",
    "\n",
    "Used in output layer for binary classification.clear_output\n",
    "\n",
    "It help models decided probabilities. Like, how likely is this email spam? --> 0.93 --> 93%\n",
    "\n",
    "Below is the formula, no need to memorize it now.\n",
    "\n",
    "Negative sides of it:\n",
    "\n",
    "- gradient vanishing (noted down below)\n",
    "- not zero centered (mean is not zero, difficult weight updation)\n",
    "- time consuming\n",
    "\n",
    "Positive sides\n",
    "- binary suitable\n",
    "- clear prediction\n",
    "- "
   ]
  },
  {
   "attachments": {
    "image.png": {
     "image/png": "[encoded data removed]"
    }
   },
   "cell_type": "markdown",
   "id": "fbcd7f21",
   "metadata": {},
   "source": [
    "![image.png](attachment:image.png)"
   ]
  },
  {
   "cell_type": "markdown",
   "id": "ad00d144",
   "metadata": {},
   "source": [
    "Optimizer is a method that helps model learn faster and better by updating weights after each step.\n",
    "\n",
    "Tasavvur qiling, qoyadan pastga tushishingiz kerak, eng pastga. Optimizer sizga qadamingiz qaysi darajada katta va qaysi yo'nalishda yurishingiz kerakligini ko'rsatadi."
   ]
  },
  {
   "cell_type": "code",
   "execution_count": null,
   "id": "e8013291",
   "metadata": {},
   "outputs": [],
   "source": [
    "Vanishing Gradient Problem - gradient juda kichik bo'lib ketsa va model o'rganishdan deyarli to'xtaganda yuzaga keladigan holat.\n",
    "\n",
    "Tasavvur qiling, tunel ichida qator odamlar bor ularga nima qilish kerakligini aytyapsizda, tunel oxiriga ovozingiz yetib borgunicha pastlab, oxiridagi odamlarga deyarli eshitilmas bo'lib boryapti. Shu vanishing gradient problemga misol.\n",
    "\n",
    "Deep Learningda layerlar o'rganishdan to'xtaydi, chunki update lar juda kichiklashib ketadi.\n",
    "\n",
    "Odatda sigmoid va tanh activation bilan bog'liq.\n",
    "\n",
    "Uni yechish uchun, ReLu dan, better initialization yoki connection skip in ResNet dan foydalanish kerak."
   ]
  },
  {
   "cell_type": "code",
   "execution_count": null,
   "id": "b8993b6c",
   "metadata": {},
   "outputs": [],
   "source": [
    "Learning rate - radioda signal, kanallarni ushlashdagi holatga qiyoslasa bo'ladi. Buraydiganni tez, ko'p yoki katta burab yuborish kanalni o'tkazib yuboradi, kalta, qisqa, oz burash esa kanalni tutib bermaydi.\n",
    "\n",
    "Learning rate katta bo'lsa model jumps around, does not learn. hyperparameter"
   ]
  },
  {
   "cell_type": "code",
   "execution_count": 8,
   "id": "682401b4",
   "metadata": {},
   "outputs": [],
   "source": [
    "def count_words(sentence):\n",
    "  word_list = sentence.lower().split()\n",
    "  word_count = {}\n",
    "\n",
    "  for word in word_list:\n",
    "    if word in word_count:\n",
    "      word_count[word] += 1\n",
    "\n",
    "    else:\n",
    "      word_count[word] = 1\n",
    "\n",
    "  return word_count"
   ]
  },
  {
   "cell_type": "code",
   "execution_count": 7,
   "id": "e5f4ea20",
   "metadata": {},
   "outputs": [
    {
     "data": {
      "text/plain": [
       "['saidabror', 'is', 'saidabror']"
      ]
     },
     "execution_count": 7,
     "metadata": {},
     "output_type": "execute_result"
    }
   ],
   "source": [
    "a = 'saidabror is saidabror'\n",
    "a.lower().split()"
   ]
  },
  {
   "cell_type": "code",
   "execution_count": 9,
   "id": "b3adfd76",
   "metadata": {},
   "outputs": [
    {
     "data": {
      "text/plain": [
       "{'ai': 2, 'is': 2, 'future': 2, 'and': 1}"
      ]
     },
     "execution_count": 9,
     "metadata": {},
     "output_type": "execute_result"
    }
   ],
   "source": [
    "b = 'AI is future and future is AI'\n",
    "count_words(b)"
   ]
  },
  {
   "cell_type": "code",
   "execution_count": 16,
   "id": "55a0529f",
   "metadata": {},
   "outputs": [
    {
     "data": {
      "text/plain": [
       "{'lola': 1}"
      ]
     },
     "execution_count": 16,
     "metadata": {},
     "output_type": "execute_result"
    }
   ],
   "source": [
    "word_list = b.lower().split()\n",
    "a = 'lola'\n",
    "word_count = {}\n",
    "word_count[a] = 1\n",
    "word_count"
   ]
  },
  {
   "cell_type": "code",
   "execution_count": 17,
   "id": "806410dc",
   "metadata": {},
   "outputs": [],
   "source": [
    "def necha_marta(gap):\n",
    "  dona = gap.lower().split()\n",
    "  lugat={}\n",
    "  for soz in dona:\n",
    "    if soz in lugat:\n",
    "      lugat[soz] += 1\n",
    "    else:\n",
    "      lugat[soz] = 1\n",
    "  return lugat"
   ]
  },
  {
   "cell_type": "code",
   "execution_count": 18,
   "id": "538fa14a",
   "metadata": {},
   "outputs": [
    {
     "data": {
      "text/plain": [
       "{'men': 1, 'seni': 2, 'sevaman': 1}"
      ]
     },
     "execution_count": 18,
     "metadata": {},
     "output_type": "execute_result"
    }
   ],
   "source": [
    "necha_marta('men seni seni sevaman')"
   ]
  },
  {
   "cell_type": "code",
   "execution_count": 29,
   "id": "2ac52e9d",
   "metadata": {},
   "outputs": [],
   "source": [
    "def count_chars(sentence):\n",
    "  word_counts = sentence.lower().split()\n",
    "  characters = {}\n",
    "  for char in word_counts:\n",
    "    for c in char:\n",
    "      if c in characters:\n",
    "        characters[c] += 1\n",
    "      else:\n",
    "        characters[c] = 1\n",
    "  return characters"
   ]
  },
  {
   "cell_type": "code",
   "execution_count": 30,
   "id": "702fad1f",
   "metadata": {},
   "outputs": [
    {
     "data": {
      "text/plain": [
       "{'m': 1, 'i': 2, 'n': 2, ',': 1, 'h': 2, 'a': 2}"
      ]
     },
     "execution_count": 30,
     "metadata": {},
     "output_type": "execute_result"
    }
   ],
   "source": [
    "a = 'minni, haha'\n",
    "count_chars(a)"
   ]
  },
  {
   "cell_type": "code",
   "execution_count": null,
   "id": "51b0c9ec",
   "metadata": {},
   "outputs": [],
   "source": [
    "dead neuron\n",
    "relu activation function\n",
    "relu output is 0\n",
    "advanages and disadvantages of it\n",
    "\n",
    "advantages is solving vanishing gradient \n",
    "disadvantage is dead neuron\n",
    "max(o,x)\n",
    "\n",
    "relu function has a linear relationship\n",
    "\n",
    "much faster than sigmoid or tanc\n",
    "\n",
    "output is between 0 - x\n",
    "\n",
    "it is not zero centered\n"
   ]
  }
 ],
 "metadata": {
  "kernelspec": {
   "display_name": "Python 3",
   "language": "python",
   "name": "python3"
  },
  "language_info": {
   "codemirror_mode": {
    "name": "ipython",
    "version": 3
   },
   "file_extension": ".py",
   "mimetype": "text/x-python",
   "name": "python",
   "nbconvert_exporter": "python",
   "pygments_lexer": "ipython3",
   "version": "3.13.2"
  }
 },
 "nbformat": 4,
 "nbformat_minor": 5
}
