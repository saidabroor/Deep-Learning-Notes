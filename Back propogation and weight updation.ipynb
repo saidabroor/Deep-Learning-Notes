{
 "cells": [
  {
   "cell_type": "code",
   "execution_count": 1,
   "id": "27b77fc3",
   "metadata": {},
   "outputs": [],
   "source": [
    "import pandas as pd"
   ]
  },
  {
   "cell_type": "code",
   "execution_count": null,
   "id": "c4cc7ae6",
   "metadata": {},
   "outputs": [],
   "source": [
    "The number of output layer depends on the number of outputs.\n"
   ]
  },
  {
   "cell_type": "code",
   "execution_count": null,
   "id": "36dd0042",
   "metadata": {},
   "outputs": [],
   "source": [
    "There are different loss functions for classification and regression."
   ]
  },
  {
   "cell_type": "code",
   "execution_count": null,
   "id": "51e21073",
   "metadata": {},
   "outputs": [],
   "source": [
    "Backward propogation - subtracting the weight and updating them"
   ]
  },
  {
   "cell_type": "code",
   "execution_count": null,
   "id": "d4a1a3d1",
   "metadata": {},
   "outputs": [],
   "source": [
    "Slope means with the unit movement in the x axis, what is the unit movement in the y axis"
   ]
  },
  {
   "cell_type": "code",
   "execution_count": null,
   "id": "4e921049",
   "metadata": {},
   "outputs": [],
   "source": [
    "Learning rate decides the step size."
   ]
  },
  {
   "cell_type": "code",
   "execution_count": null,
   "id": "297ae2d2",
   "metadata": {},
   "outputs": [],
   "source": [
    " "
   ]
  },
  {
   "cell_type": "code",
   "execution_count": null,
   "id": "2ffe4a01",
   "metadata": {},
   "outputs": [],
   "source": []
  },
  {
   "cell_type": "code",
   "execution_count": null,
   "id": "d70443d5",
   "metadata": {},
   "outputs": [],
   "source": []
  },
  {
   "cell_type": "code",
   "execution_count": null,
   "id": "6b5ed69f",
   "metadata": {},
   "outputs": [],
   "source": []
  },
  {
   "cell_type": "code",
   "execution_count": null,
   "id": "059566bb",
   "metadata": {},
   "outputs": [],
   "source": []
  },
  {
   "cell_type": "code",
   "execution_count": null,
   "id": "f89afae7",
   "metadata": {},
   "outputs": [],
   "source": []
  },
  {
   "cell_type": "code",
   "execution_count": null,
   "id": "1015c443",
   "metadata": {},
   "outputs": [],
   "source": []
  },
  {
   "cell_type": "code",
   "execution_count": null,
   "id": "0f635e99",
   "metadata": {},
   "outputs": [],
   "source": [
    "sleep_hours = [4,7,5,6.5,6,8,7]\n",
    "def sleep_quality(hours):\n",
    "  sum_of_sleep = 0\n",
    "  average_sleep = 0\n",
    "  for i in hours:\n",
    "    average_sleep = average_sleep + i\n",
    "    sum_of_sleep = average_sleep / len(sleep_hours)\n",
    "  if sum_of_sleep < 6:\n",
    "    print(f'Too little, your average weekly sleep is {sum_of_sleep:.2f} hours.')\n",
    "  elif 6 < sum_of_sleep < 8:\n",
    "    print('Okay')\n",
    "  else:\n",
    "    print('Excellent')"
   ]
  }
 ],
 "metadata": {
  "kernelspec": {
   "display_name": "Python 3",
   "language": "python",
   "name": "python3"
  },
  "language_info": {
   "codemirror_mode": {
    "name": "ipython",
    "version": 3
   },
   "file_extension": ".py",
   "mimetype": "text/x-python",
   "name": "python",
   "nbconvert_exporter": "python",
   "pygments_lexer": "ipython3",
   "version": "3.13.2"
  }
 },
 "nbformat": 4,
 "nbformat_minor": 5
}
