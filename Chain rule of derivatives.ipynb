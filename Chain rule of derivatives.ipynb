{
 "cells": [
  {
   "cell_type": "code",
   "execution_count": null,
   "id": "52ab3966",
   "metadata": {},
   "outputs": [],
   "source": [
    "Chain rule of derivatives - O'zgarish tezligini o'lchash. \\\n",
    "\n",
    "Masalan, bochkada suv bor, va bochkani teshib qoýdingiz, suv oqib chiqyapti. O'sha suv qancha tezlikda oqib chiqishi hosila bilan topiladi. \n",
    "\n",
    "Deep Learningda esa, weight outputga hidden layer orqali tasir qiladi. Shu sabab zanjirni (chain) orqaga qarab hisoblash kerak.a\n"
   ]
  },
  {
   "cell_type": "code",
   "execution_count": null,
   "metadata": {},
   "outputs": [],
   "source": [
    "- Chain rule helps us know how much to update each weight.\n",
    "\n",
    "- Backpropagation uses it to go from the final error to the first layer.\n",
    "\n",
    "- We don’t compute it by hand — libraries like TensorFlow, PyTorch do it for us.\n",
    "\n",
    "- Just know it’s how models learn from mistakes."
   ]
  },
  {
   "cell_type": "code",
   "execution_count": null,
   "id": "884fd15f",
   "metadata": {},
   "outputs": [],
   "source": []
  }
 ],
 "metadata": {
  "kernelspec": {
   "display_name": "Python 3",
   "language": "python",
   "name": "python3"
  },
  "language_info": {
   "codemirror_mode": {
    "name": "ipython",
    "version": 3
   },
   "file_extension": ".py",
   "mimetype": "text/x-python",
   "name": "python",
   "nbconvert_exporter": "python",
   "pygments_lexer": "ipython3",
   "version": "3.13.2"
  }
 },
 "nbformat": 4,
 "nbformat_minor": 5
}
