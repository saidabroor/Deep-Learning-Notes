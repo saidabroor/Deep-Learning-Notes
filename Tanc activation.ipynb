{
 "cells": [
  {
   "cell_type": "code",
   "execution_count": null,
   "id": "5fe21f4d",
   "metadata": {},
   "outputs": [],
   "source": [
    "tutor explain tanh activation function, its advantages and disadvantages "
   ]
  },
  {
   "cell_type": "code",
   "execution_count": null,
   "id": "90162ab5",
   "metadata": {},
   "outputs": [],
   "source": [
    "Tanc is mathematical function,it add non linearity. \n",
    "It transforms input values into a range between -1 and 1.\n",
    "\n",
    "Advantages:\n",
    "- centered at 0\n",
    "- works well with negative and positive values\n",
    "  \n",
    "Disadvantages:\n",
    "- for deep neural network, gradient vanishing problem\n",
    "- if values are too large or too small, output becomes flat, meaning that it will lead to vanishing gradient problem\n"
   ]
  }
 ],
 "metadata": {
  "language_info": {
   "name": "python"
  }
 },
 "nbformat": 4,
 "nbformat_minor": 5
}
