{
 "cells": [
  {
   "cell_type": "code",
   "execution_count": null,
   "id": "06ebd593",
   "metadata": {},
   "outputs": [],
   "source": [
    "ReLU - Rectified Linear Unit, activation function in neural network.\n",
    "\n",
    "It keeps positive values as they are and keep negative values into 0.\n",
    "\n"
   ]
  },
  {
   "attachments": {
    "image.png": {
     "image/png": "[encoded data removed]"
    }
   },
   "cell_type": "markdown",
   "id": "39a91d32",
   "metadata": {},
   "source": [
    "![image.png](attachment:image.png)"
   ]
  },
  {
   "cell_type": "code",
   "execution_count": null,
   "id": "036cfcb2",
   "metadata": {},
   "outputs": [],
   "source": [
    "Advantages:\n",
    "- simple and fast - no exponentials like sigmoid or tanh\n",
    "- avoids vanishing gradient, it flows better in deep networks\n",
    "- sparsity, efficient network, sets negatives to 0\n",
    "\n",
    "Disadvantages:\n",
    "- sometimes, too many neurons become 0, never recover and it is like they are dead, solution? --> Leaky ReLU\n",
    "\n"
   ]
  },
  {
   "cell_type": "code",
   "execution_count": null,
   "id": "4e933645",
   "metadata": {},
   "outputs": [],
   "source": [
    "Activation function is a decision maker inside a neural network. It takes a value and decides what to pass forward.\n",
    "It gives binary decision like, yes or no. 1 or 2. Cat or Dog.\n",
    "\n"
   ]
  },
  {
   "cell_type": "markdown",
   "id": "703b737c",
   "metadata": {},
   "source": []
  }
 ],
 "metadata": {
  "language_info": {
   "name": "python"
  }
 },
 "nbformat": 4,
 "nbformat_minor": 5
}
