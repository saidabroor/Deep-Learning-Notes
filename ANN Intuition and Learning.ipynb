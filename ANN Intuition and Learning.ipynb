{
 "cells": [
  {
   "cell_type": "code",
   "execution_count": null,
   "id": "2026425f",
   "metadata": {},
   "outputs": [],
   "source": [
    "Multilayer Perceptron model (ANN) have concepts such as \n",
    "- Forward Propagation\n",
    "- Backward Propagation\n",
    "- Loss function\n",
    "- Optimizers\n",
    "- Activation function"
   ]
  },
  {
   "cell_type": "code",
   "execution_count": null,
   "id": "cfede77d",
   "metadata": {},
   "outputs": [],
   "source": [
    "More than one hidden layer means multilayered NN\n",
    "Two layers can be connected using weight.\n",
    "Even in hidden layer part, like two neurons can be connected using weights.\n",
    "\n",
    "Sigmoid function formula = 1 / 1 + e^z\n",
    "what is e? -- Natural logarithm\n",
    "e ≈ 2.7182"
   ]
  },
  {
   "attachments": {
    "image-2.png": {
     "image/png": "[encoded data removed]"
    },
    "image.png": {
     "image/png": "[encoded data removed]"
    }
   },
   "cell_type": "markdown",
   "id": "6545c226",
   "metadata": {},
   "source": [
    "![image-2.png](attachment:image-2.png)"
   ]
  },
  {
   "cell_type": "code",
   "execution_count": null,
   "id": "f668ef94",
   "metadata": {},
   "outputs": [],
   "source": [
    "'''\n",
    "\n",
    "You can have any layer of neurons and any number of hidden layers.\n",
    "\n",
    "'''"
   ]
  },
  {
   "cell_type": "code",
   "execution_count": null,
   "id": "16aad3a1",
   "metadata": {},
   "outputs": [],
   "source": [
    "Regression - mse, mae, huber loss\n",
    "classification - binary cross entropy, categorical cross entropy"
   ]
  },
  {
   "cell_type": "code",
   "execution_count": null,
   "id": "d8f37909",
   "metadata": {},
   "outputs": [],
   "source": [
    "Weight updation formula = w7new - w7old\n",
    "Weight7 new equals to Weight7 old - with respect to derivative of loss with respect to deriative of weight7 old\n",
    "Learning rate\n",
    "Gradient decent\n",
    "\n",
    "Wnew = Wold - learning rate sign derivative of loss with respect to derivative of w old\n"
   ]
  },
  {
   "attachments": {
    "image.png": {
     "image/png": "[encoded data removed]"
    }
   },
   "cell_type": "markdown",
   "id": "57f9d40c",
   "metadata": {},
   "source": [
    "![image.png](attachment:image.png)"
   ]
  },
  {
   "cell_type": "code",
   "execution_count": null,
   "id": "b53ec5e4",
   "metadata": {},
   "outputs": [],
   "source": [
    "Optimizers: to reduce loss value\n",
    "(Gradient descent Optimizers)\n",
    "\n",
    "global minimum\n",
    "Slope. If the right side of slope is downward, it means it is a negative slope and if it is upward, it is positive slope.\n"
   ]
  },
  {
   "cell_type": "code",
   "execution_count": null,
   "id": "3bb29329",
   "metadata": {},
   "outputs": [],
   "source": [
    "learning rate should be a small value.\n",
    "When w reaches global minimum, Wnew = Wold"
   ]
  },
  {
   "cell_type": "code",
   "execution_count": null,
   "id": "50f8f614",
   "metadata": {},
   "outputs": [],
   "source": [
    "Slope means with the unit movement in the x axis, what is the unit movement in the y axis.\n",
    "\n",
    "Learning rate decides the step size."
   ]
  },
  {
   "cell_type": "code",
   "execution_count": null,
   "id": "61cb0287",
   "metadata": {},
   "outputs": [],
   "source": []
  },
  {
   "cell_type": "code",
   "execution_count": null,
   "metadata": {},
   "outputs": [],
   "source": []
  },
  {
   "cell_type": "code",
   "execution_count": null,
   "id": "631de84c",
   "metadata": {},
   "outputs": [],
   "source": []
  }
 ],
 "metadata": {
  "kernelspec": {
   "display_name": "Python 3",
   "language": "python",
   "name": "python3"
  },
  "language_info": {
   "codemirror_mode": {
    "name": "ipython",
    "version": 3
   },
   "file_extension": ".py",
   "mimetype": "text/x-python",
   "name": "python",
   "nbconvert_exporter": "python",
   "pygments_lexer": "ipython3",
   "version": "3.13.2"
  }
 },
 "nbformat": 4,
 "nbformat_minor": 5
}
