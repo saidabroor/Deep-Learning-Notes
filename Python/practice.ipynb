{
 "cells": [
  {
   "cell_type": "markdown",
   "id": "587515de",
   "metadata": {},
   "source": [
    "### Fibonacci Sequence"
   ]
  },
  {
   "cell_type": "code",
   "execution_count": null,
   "id": "019b616e",
   "metadata": {},
   "outputs": [],
   "source": [
    "def fibonacci(number, memo={}):\n",
    "  if number in memo:\n",
    "    return memo[number]\n",
    "  if number <= 1:\n",
    "    return number\n",
    "  memo[number] = fibonacci(number - 1, memo) + fibonacci(number - 2, memo)\n",
    "  return memo[number]\n",
    "fibonacci(3)"
   ]
  },
  {
   "cell_type": "code",
   "execution_count": null,
   "id": "5c8d1941",
   "metadata": {},
   "outputs": [],
   "source": [
    "def fib(n, memo={}):\n",
    "    if n in memo:\n",
    "        return memo[n]\n",
    "    if n <= 1:\n",
    "        return n\n",
    "    memo[n] = fib(n - 1, memo) + fib(n - 2, memo)\n",
    "    return memo[n]\n",
    "fib(10)"
   ]
  },
  {
   "cell_type": "markdown",
   "id": "470f6f00",
   "metadata": {},
   "source": [
    "### Function with nested default arguments"
   ]
  },
  {
   "cell_type": "code",
   "execution_count": 31,
   "id": "c87422b9",
   "metadata": {},
   "outputs": [
    {
     "data": {
      "text/plain": [
       "{9: 18}"
      ]
     },
     "execution_count": 31,
     "metadata": {},
     "output_type": "execute_result"
    }
   ],
   "source": [
    "def nested(a, b=None):\n",
    "    if b is None:\n",
    "        b = {}\n",
    "    b[a] = a * 2\n",
    "    return b\n",
    "nested(9)"
   ]
  },
  {
   "cell_type": "code",
   "execution_count": null,
   "id": "e6194302",
   "metadata": {},
   "outputs": [],
   "source": [
    "def nest(a, b=None):\n",
    "  if b is None:\n",
    "    b = {}\n",
    "  b[a] = a * 2\n",
    "  return b\n",
    "print(nest(3, {1: 1}))  # {1: 1, 3: 9}"
   ]
  },
  {
   "cell_type": "markdown",
   "id": "79b232eb",
   "metadata": {},
   "source": [
    "### Function with variable keyword arguments"
   ]
  },
  {
   "cell_type": "code",
   "execution_count": 39,
   "id": "bb096a0f",
   "metadata": {},
   "outputs": [
    {
     "data": {
      "text/plain": [
       "{'a': 1, 'c': 2}"
      ]
     },
     "execution_count": 39,
     "metadata": {},
     "output_type": "execute_result"
    }
   ],
   "source": [
    "def filter_integers(**kwargs):\n",
    "    return {a: v for a, v in kwargs.items() if isinstance(v, int)}\n",
    "filter_integers(a=1, b='two', c=2)"
   ]
  },
  {
   "cell_type": "code",
   "execution_count": 38,
   "id": "5ae4d142",
   "metadata": {},
   "outputs": [
    {
     "name": "stdout",
     "output_type": "stream",
     "text": [
      "{'a': 1, 'c': 2}\n",
      "{'x': 10, 'z': 20}\n"
     ]
    }
   ],
   "source": [
    "def only_ints(**kwargs):\n",
    "  return {k: v for k, v in kwargs.items() if isinstance(v, int)}\n",
    "print(only_ints(a=1, b='two', c=2))\n",
    "print(only_ints(x=10, y='yes', z=20))"
   ]
  },
  {
   "cell_type": "markdown",
   "id": "420be30b",
   "metadata": {},
   "source": [
    "### Function with Callback"
   ]
  },
  {
   "cell_type": "code",
   "execution_count": 41,
   "id": "acbef2f4",
   "metadata": {},
   "outputs": [
    {
     "name": "stdout",
     "output_type": "stream",
     "text": [
      "[1, 4, 9, 16]\n"
     ]
    }
   ],
   "source": [
    "def apply_callback(callback, lst):\n",
    "  return [callback(x) for x in lst]\n",
    "\n",
    "print(apply_callback(lambda x: x ** 2, [1,2,3,4]))"
   ]
  },
  {
   "cell_type": "code",
   "execution_count": 48,
   "id": "8a3ced1e",
   "metadata": {},
   "outputs": [
    {
     "name": "stdout",
     "output_type": "stream",
     "text": [
      "[1, 4, 9, 16]\n"
     ]
    }
   ],
   "source": [
    "def apply(func):\n",
    "  return func ** 2\n",
    "\n",
    "def apply_callback(func, lst):\n",
    "  return [func(x) for x in lst]\n",
    "print(apply_callback(apply, [1,2,3,4]))"
   ]
  },
  {
   "cell_type": "markdown",
   "id": "1642aeac",
   "metadata": {},
   "source": [
    "### Function that returns a function"
   ]
  },
  {
   "cell_type": "code",
   "execution_count": 52,
   "id": "2fb53658",
   "metadata": {},
   "outputs": [
    {
     "data": {
      "text/plain": [
       "4"
      ]
     },
     "execution_count": 52,
     "metadata": {},
     "output_type": "execute_result"
    }
   ],
   "source": [
    "def outer_function():\n",
    "    def inner_function(x):\n",
    "        return x ** 2\n",
    "\n",
    "    return inner_function\n",
    "\n",
    "square = outer_function()\n",
    "square(2)"
   ]
  },
  {
   "cell_type": "code",
   "execution_count": 54,
   "id": "db6f10c3",
   "metadata": {},
   "outputs": [
    {
     "data": {
      "text/plain": [
       "4"
      ]
     },
     "execution_count": 54,
     "metadata": {},
     "output_type": "execute_result"
    }
   ],
   "source": [
    "outer_function()(2)"
   ]
  },
  {
   "cell_type": "code",
   "execution_count": 57,
   "id": "5daf8602",
   "metadata": {},
   "outputs": [
    {
     "data": {
      "text/plain": [
       "27"
      ]
     },
     "execution_count": 57,
     "metadata": {},
     "output_type": "execute_result"
    }
   ],
   "source": [
    "def outer_function():\n",
    "    def inner_function(x):\n",
    "        return x ** 2\n",
    "    \n",
    "    def cube(x):\n",
    "        return x ** 3\n",
    "\n",
    "    return inner_function, cube\n",
    "\n",
    "square, cube = outer_function()\n",
    "square(2)\n",
    "cube(3)"
   ]
  },
  {
   "cell_type": "markdown",
   "id": "1801624e",
   "metadata": {},
   "source": [
    "### Lift Rounds"
   ]
  },
  {
   "cell_type": "code",
   "execution_count": 59,
   "id": "df26c9c8",
   "metadata": {},
   "outputs": [
    {
     "data": {
      "text/plain": [
       "3"
      ]
     },
     "execution_count": 59,
     "metadata": {},
     "output_type": "execute_result"
    }
   ],
   "source": [
    "def calculate_lift_rounds(n, capacity):\n",
    "    full_rounds = n // capacity    \n",
    "    if n % capacity != 0:\n",
    "        return full_rounds + 1\n",
    "    else:\n",
    "        return full_rounds\n",
    "calculate_lift_rounds(15,7)"
   ]
  }
 ],
 "metadata": {
  "kernelspec": {
   "display_name": "Python 3",
   "language": "python",
   "name": "python3"
  },
  "language_info": {
   "codemirror_mode": {
    "name": "ipython",
    "version": 3
   },
   "file_extension": ".py",
   "mimetype": "text/x-python",
   "name": "python",
   "nbconvert_exporter": "python",
   "pygments_lexer": "ipython3",
   "version": "3.13.2"
  }
 },
 "nbformat": 4,
 "nbformat_minor": 5
}
