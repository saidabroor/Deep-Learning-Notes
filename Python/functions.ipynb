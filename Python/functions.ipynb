{
 "cells": [
  {
   "cell_type": "code",
   "execution_count": 1,
   "id": "1d0787b7",
   "metadata": {},
   "outputs": [],
   "source": [
    "def even_or_odd(num):\n",
    "  \"\"\"This functions find even or odd\"\"\"\n",
    "  if num % 2 == 0:\n",
    "    print('The number is even.')\n",
    "  else:\n",
    "    print('The number is odd.')"
   ]
  },
  {
   "cell_type": "code",
   "execution_count": 3,
   "id": "f87872ff",
   "metadata": {},
   "outputs": [
    {
     "name": "stdout",
     "output_type": "stream",
     "text": [
      "The number is odd.\n"
     ]
    }
   ],
   "source": [
    "even_or_odd(91)"
   ]
  },
  {
   "cell_type": "code",
   "execution_count": 4,
   "id": "dfdc630a",
   "metadata": {},
   "outputs": [],
   "source": [
    "def add(a, b):\n",
    "  return a + b"
   ]
  },
  {
   "cell_type": "code",
   "execution_count": 5,
   "id": "d6ac3747",
   "metadata": {},
   "outputs": [
    {
     "data": {
      "text/plain": [
       "5"
      ]
     },
     "execution_count": 5,
     "metadata": {},
     "output_type": "execute_result"
    }
   ],
   "source": [
    "add(3,2)"
   ]
  },
  {
   "cell_type": "code",
   "execution_count": null,
   "id": "4f91b76b",
   "metadata": {},
   "outputs": [],
   "source": [
    "# Default functions\n",
    "def greet(name='Guest'):\n",
    "  print(f'Hello {name}!')"
   ]
  },
  {
   "cell_type": "code",
   "execution_count": 7,
   "id": "df0c8e02",
   "metadata": {},
   "outputs": [
    {
     "name": "stdout",
     "output_type": "stream",
     "text": [
      "Hello Saidabrorkhon!\n"
     ]
    }
   ],
   "source": [
    "greet('Saidabrorkhon')"
   ]
  },
  {
   "cell_type": "code",
   "execution_count": 9,
   "id": "fb7cd20f",
   "metadata": {},
   "outputs": [
    {
     "name": "stdout",
     "output_type": "stream",
     "text": [
      "Hello Guest!\n"
     ]
    }
   ],
   "source": [
    "greet()"
   ]
  },
  {
   "cell_type": "code",
   "execution_count": 10,
   "id": "05a41e15",
   "metadata": {},
   "outputs": [],
   "source": [
    "# Variable Length Arguments\n",
    "# Positional and Keyword argument (*args)\n",
    "\n",
    "def print_numbers(*args):\n",
    "  return args"
   ]
  },
  {
   "cell_type": "code",
   "execution_count": 11,
   "id": "a02fd8cd",
   "metadata": {},
   "outputs": [
    {
     "data": {
      "text/plain": [
       "(1, 2, 3, 4, 5, 6, 7)"
      ]
     },
     "execution_count": 11,
     "metadata": {},
     "output_type": "execute_result"
    }
   ],
   "source": [
    "print_numbers(1,2,3,4,5,6,7)"
   ]
  },
  {
   "cell_type": "code",
   "execution_count": 12,
   "id": "f7cdbab8",
   "metadata": {},
   "outputs": [],
   "source": [
    "def print_numbers(*args):\n",
    "  for i in args:\n",
    "    print(i)"
   ]
  },
  {
   "cell_type": "code",
   "execution_count": 13,
   "id": "d53d90ed",
   "metadata": {},
   "outputs": [
    {
     "name": "stdout",
     "output_type": "stream",
     "text": [
      "1\n",
      "2\n",
      "3\n",
      "4\n",
      "5\n",
      "6\n",
      "7\n"
     ]
    }
   ],
   "source": [
    "print_numbers(1,2,3,4,5,6,7)"
   ]
  },
  {
   "cell_type": "code",
   "execution_count": 14,
   "id": "650d1f12",
   "metadata": {},
   "outputs": [],
   "source": [
    "# Keyword Arguments\n",
    "def print_details(**kwargs):\n",
    "  for key, value in kwargs.items():\n",
    "    print(f'{key}: {value}')"
   ]
  },
  {
   "cell_type": "code",
   "execution_count": 19,
   "id": "edac6506",
   "metadata": {},
   "outputs": [
    {
     "name": "stdout",
     "output_type": "stream",
     "text": [
      "name: Saidabrorkhon\n",
      "age: 26\n",
      "country: South Korea\n"
     ]
    }
   ],
   "source": [
    "print_details(name='Saidabrorkhon',age=26,country='South Korea')"
   ]
  },
  {
   "cell_type": "code",
   "execution_count": 25,
   "id": "64ee2997",
   "metadata": {},
   "outputs": [],
   "source": [
    "def print_details(*args, **kwargs):\n",
    "    for val in args:\n",
    "     print(f'Positional argument: {val}')\n",
    "    for key, value in kwargs.items():\n",
    "     print(f'{key}: {value}')"
   ]
  },
  {
   "cell_type": "code",
   "execution_count": 26,
   "id": "ad3f13bb",
   "metadata": {},
   "outputs": [
    {
     "name": "stdout",
     "output_type": "stream",
     "text": [
      "Positional argument: 1\n",
      "Positional argument: 2\n",
      "Positional argument: 3\n",
      "Positional argument: 4\n",
      "name: Saidabrorkhon\n",
      "age: 26\n",
      "country: South Korea\n"
     ]
    }
   ],
   "source": [
    "print_details(1,2,3,4,name='Saidabrorkhon',age=26,country='South Korea')"
   ]
  },
  {
   "cell_type": "code",
   "execution_count": 2,
   "id": "3162e6ef",
   "metadata": {},
   "outputs": [],
   "source": [
    "# Return multiple statements\n",
    "def multiply(a, b):\n",
    "  return a * b, a + b, a / b"
   ]
  },
  {
   "cell_type": "code",
   "execution_count": 3,
   "id": "7ad0a1f4",
   "metadata": {},
   "outputs": [
    {
     "data": {
      "text/plain": [
       "(3, 4, 3.0)"
      ]
     },
     "execution_count": 3,
     "metadata": {},
     "output_type": "execute_result"
    }
   ],
   "source": [
    "multiply(3, 1)"
   ]
  },
  {
   "cell_type": "markdown",
   "id": "5da65dc0",
   "metadata": {},
   "source": [
    "### Temperature converter"
   ]
  },
  {
   "cell_type": "code",
   "execution_count": null,
   "id": "de34a5ed",
   "metadata": {},
   "outputs": [],
   "source": [
    "def convert_temperature(temp, unit):\n",
    "    if unit == 'C':\n",
    "        return f'{temp * 9/5 + 32}F' #Celsius to Fahrenheit\n",
    "    elif unit == 'F':\n",
    "        return f'{(temp - 32) * 5/9}C' #Fahrenheit to Celsius"
   ]
  },
  {
   "cell_type": "code",
   "execution_count": 29,
   "id": "0e2b3221",
   "metadata": {},
   "outputs": [
    {
     "name": "stdout",
     "output_type": "stream",
     "text": [
      "45.0C\n"
     ]
    }
   ],
   "source": [
    "print(convert_temperature(113,'F'))"
   ]
  },
  {
   "cell_type": "markdown",
   "id": "0afb67a0",
   "metadata": {},
   "source": [
    "### Pasword strength checker"
   ]
  },
  {
   "cell_type": "code",
   "execution_count": null,
   "id": "24b3a2ff",
   "metadata": {},
   "outputs": [],
   "source": [
    "def is_strong_password(password):\n",
    "    \"\"\"This function checks if the password is strong or not\"\"\"\n",
    "    if len(password) < 8:\n",
    "        return False\n",
    "    if not any(char.isdigit() for char in password):\n",
    "        return False\n",
    "    if not any(char.lower() for char in password):\n",
    "        return False\n",
    "    if not any(char.isupper() for char in password):\n",
    "        return False\n",
    "    if not any(char in \"!@#$%^&*()_+\" for char in password):\n",
    "        return False\n",
    "    return True"
   ]
  },
  {
   "cell_type": "code",
   "execution_count": 41,
   "id": "823bf9f0",
   "metadata": {},
   "outputs": [
    {
     "name": "stdout",
     "output_type": "stream",
     "text": [
      "False\n",
      "True\n"
     ]
    }
   ],
   "source": [
    "print(is_strong_password('weakp2'))\n",
    "print(is_strong_password('SHS.SAID1!'))"
   ]
  },
  {
   "cell_type": "markdown",
   "id": "a74fef3d",
   "metadata": {},
   "source": [
    "### Total cost of items in a shopping cart"
   ]
  },
  {
   "cell_type": "code",
   "execution_count": 39,
   "id": "2c101880",
   "metadata": {},
   "outputs": [
    {
     "data": {
      "text/plain": [
       "6.5"
      ]
     },
     "execution_count": 39,
     "metadata": {},
     "output_type": "execute_result"
    }
   ],
   "source": [
    "def calculate_total_cost(cart):\n",
    "    total_cost = 0\n",
    "    for i in cart:\n",
    "        total_cost += i['price'] * i['quantity']\n",
    "    return total_cost\n",
    "\n",
    "cart = [\n",
    "  {'name': 'Apple', 'price': 0.5, 'quantity': 4},\n",
    "  {'name': 'Banana', 'price': 0.4, 'quantity': 6},\n",
    "  {'name': 'Orange', 'price': 0.7, 'quantity': 3}\n",
    "]\n",
    "\n",
    "calculate_total_cost(cart)"
   ]
  },
  {
   "cell_type": "markdown",
   "id": "c5d36901",
   "metadata": {},
   "source": [
    "### Check if a string is palindrome"
   ]
  },
  {
   "cell_type": "code",
   "execution_count": 70,
   "id": "4c962020",
   "metadata": {},
   "outputs": [
    {
     "name": "stdout",
     "output_type": "stream",
     "text": [
      "True\n",
      "False\n"
     ]
    }
   ],
   "source": [
    "# read the same both forward and backward\n",
    "def is_palindrome(s):\n",
    "    s = s.lower().replace(\" \", \"\")\n",
    "    return s==s[::-1]\n",
    "print(is_palindrome(\"A man a plan a canal Panama\"))\n",
    "print(is_palindrome(\"Hello\"))"
   ]
  },
  {
   "cell_type": "markdown",
   "id": "09cf655b",
   "metadata": {},
   "source": [
    "### The factorial of a number using recursion"
   ]
  },
  {
   "cell_type": "code",
   "execution_count": 74,
   "id": "264af504",
   "metadata": {},
   "outputs": [
    {
     "data": {
      "text/plain": [
       "120"
      ]
     },
     "execution_count": 74,
     "metadata": {},
     "output_type": "execute_result"
    }
   ],
   "source": [
    "def factorial(n):\n",
    "    if n == 0:\n",
    "        return 1\n",
    "    else:\n",
    "        return n * factorial(n-1)\n",
    "    \n",
    "factorial(5)"
   ]
  },
  {
   "cell_type": "markdown",
   "id": "c5e562d1",
   "metadata": {},
   "source": [
    "### Count the frequency of the word"
   ]
  },
  {
   "cell_type": "code",
   "execution_count": null,
   "id": "f9cf6284",
   "metadata": {},
   "outputs": [
    {
     "data": {
      "text/plain": [
       "{'men': 4,\n",
       " 'saidabror': 1,\n",
       " 'andijon': 1,\n",
       " 'shahar': 1,\n",
       " 'maktab': 1,\n",
       " 'va': 3,\n",
       " 'non': 1}"
      ]
     },
     "execution_count": 77,
     "metadata": {},
     "output_type": "execute_result"
    }
   ],
   "source": [
    "def count_word_frequncy(file_path):\n",
    "    word_count = {}\n",
    "    with open(file_path, 'r') as file:\n",
    "        for line in file:\n",
    "            words = line.split()\n",
    "            for word in words:\n",
    "                word = word.lower().strip('.,!?;:\"\\'')\n",
    "                word_count[word] = word_count.get(word, 0) + 1\n",
    "    return word_count\n",
    "\n",
    "filepath = 'sample.txt'\n",
    "# word = count_word_frequncy(filepath)\n",
    "# print(word)\n",
    "count_word_frequncy(filepath)"
   ]
  },
  {
   "cell_type": "code",
   "execution_count": 84,
   "id": "64c7166c",
   "metadata": {},
   "outputs": [],
   "source": [
    "addition = lambda a, b: a + b"
   ]
  },
  {
   "cell_type": "code",
   "execution_count": 85,
   "id": "991108ad",
   "metadata": {},
   "outputs": [
    {
     "data": {
      "text/plain": [
       "5"
      ]
     },
     "execution_count": 85,
     "metadata": {},
     "output_type": "execute_result"
    }
   ],
   "source": [
    "addition(2,3)"
   ]
  },
  {
   "cell_type": "code",
   "execution_count": 86,
   "id": "84d56fc9",
   "metadata": {},
   "outputs": [],
   "source": [
    "even = lambda num: num % 2 == 0"
   ]
  },
  {
   "cell_type": "code",
   "execution_count": 87,
   "id": "5eb9c77d",
   "metadata": {},
   "outputs": [
    {
     "data": {
      "text/plain": [
       "False"
      ]
     },
     "execution_count": 87,
     "metadata": {},
     "output_type": "execute_result"
    }
   ],
   "source": [
    "even(9)"
   ]
  },
  {
   "cell_type": "code",
   "execution_count": 89,
   "id": "73857b9e",
   "metadata": {},
   "outputs": [
    {
     "data": {
      "text/plain": [
       "39"
      ]
     },
     "execution_count": 89,
     "metadata": {},
     "output_type": "execute_result"
    }
   ],
   "source": [
    "addition1 = lambda a,b,c: a+b+c\n",
    "addition1(12,13,14)"
   ]
  },
  {
   "cell_type": "code",
   "execution_count": 122,
   "id": "9fba0b1f",
   "metadata": {},
   "outputs": [
    {
     "data": {
      "text/plain": [
       "4"
      ]
     },
     "execution_count": 122,
     "metadata": {},
     "output_type": "execute_result"
    }
   ],
   "source": [
    "numbers = [1,2,3,4,5]\n",
    "def square(number):\n",
    "    return number ** 2\n",
    "\n",
    "square(2)"
   ]
  },
  {
   "cell_type": "code",
   "execution_count": 125,
   "id": "180f9361",
   "metadata": {},
   "outputs": [
    {
     "data": {
      "text/plain": [
       "[1, 4, 9, 16, 25]"
      ]
     },
     "execution_count": 125,
     "metadata": {},
     "output_type": "execute_result"
    }
   ],
   "source": [
    "list(map(lambda x: x ** 2, numbers))"
   ]
  },
  {
   "cell_type": "code",
   "execution_count": null,
   "id": "eaf457ab",
   "metadata": {},
   "outputs": [
    {
     "data": {
      "text/plain": [
       "[1, 0, 1, 0, 1, 0, 1, 0]"
      ]
     },
     "execution_count": 136,
     "metadata": {},
     "output_type": "execute_result"
    }
   ],
   "source": [
    "numbers = [1, 4, 7, 10, 13, 16, 19, 22]\n",
    "even2 = lambda x: [i % 2 for i in x]\n",
    "list(even2(numbers))"
   ]
  },
  {
   "cell_type": "code",
   "execution_count": null,
   "id": "29866f0c",
   "metadata": {},
   "outputs": [
    {
     "data": {
      "text/plain": [
       "[4, 10, 16, 22]"
      ]
     },
     "execution_count": 141,
     "metadata": {},
     "output_type": "execute_result"
    }
   ],
   "source": [
    "numbers = [1, 4, 7, 10, 13, 16, 19, 22]\n",
    "even3 = list(filter(lambda x: x % 2 == 0, numbers))\n",
    "even3"
   ]
  },
  {
   "cell_type": "code",
   "execution_count": 146,
   "id": "770a3cc2",
   "metadata": {},
   "outputs": [
    {
     "data": {
      "text/plain": [
       "[1, 16, 49, 100, 169, 256, 361, 484]"
      ]
     },
     "execution_count": 146,
     "metadata": {},
     "output_type": "execute_result"
    }
   ],
   "source": [
    "list(map(lambda x: x * x, numbers))"
   ]
  },
  {
   "cell_type": "code",
   "execution_count": 153,
   "id": "d1ea0f88",
   "metadata": {},
   "outputs": [
    {
     "data": {
      "text/plain": [
       "[1, 16, 49, 100, 169, 256, 361, 484]"
      ]
     },
     "execution_count": 153,
     "metadata": {},
     "output_type": "execute_result"
    }
   ],
   "source": [
    "def logic(x):\n",
    "  return x * x\n",
    "\n",
    "list(map(logic, numbers))"
   ]
  },
  {
   "cell_type": "code",
   "execution_count": 157,
   "id": "7a94094a",
   "metadata": {},
   "outputs": [
    {
     "data": {
      "text/plain": [
       "[12, 15, 18]"
      ]
     },
     "execution_count": 157,
     "metadata": {},
     "output_type": "execute_result"
    }
   ],
   "source": [
    "numbers1 = [1,2,3]\n",
    "numbers2 = [4,5,6]\n",
    "numbers3 = [7,8,9]\n",
    "added_numbers = list(map(lambda x,y,z:x+y+z, numbers1, numbers2, numbers3))\n",
    "added_numbers"
   ]
  },
  {
   "cell_type": "code",
   "execution_count": 158,
   "id": "0846b2e7",
   "metadata": {},
   "outputs": [
    {
     "data": {
      "text/plain": [
       "[1, 2, 3]"
      ]
     },
     "execution_count": 158,
     "metadata": {},
     "output_type": "execute_result"
    }
   ],
   "source": [
    "# map() to convert a list of strings to integers\n",
    "str_numbers = ['1','2','3']\n",
    "int_numbers = list(map(int, str_numbers))\n",
    "int_numbers"
   ]
  },
  {
   "cell_type": "code",
   "execution_count": 159,
   "id": "64112e79",
   "metadata": {},
   "outputs": [],
   "source": [
    "import pandas as pd"
   ]
  },
  {
   "cell_type": "code",
   "execution_count": 161,
   "id": "81d567c4",
   "metadata": {},
   "outputs": [
    {
     "data": {
      "text/html": [
       "<div>\n",
       "<style scoped>\n",
       "    .dataframe tbody tr th:only-of-type {\n",
       "        vertical-align: middle;\n",
       "    }\n",
       "\n",
       "    .dataframe tbody tr th {\n",
       "        vertical-align: top;\n",
       "    }\n",
       "\n",
       "    .dataframe thead th {\n",
       "        text-align: right;\n",
       "    }\n",
       "</style>\n",
       "<table border=\"1\" class=\"dataframe\">\n",
       "  <thead>\n",
       "    <tr style=\"text-align: right;\">\n",
       "      <th></th>\n",
       "      <th>status</th>\n",
       "    </tr>\n",
       "  </thead>\n",
       "  <tbody>\n",
       "    <tr>\n",
       "      <th>0</th>\n",
       "      <td>yes</td>\n",
       "    </tr>\n",
       "    <tr>\n",
       "      <th>1</th>\n",
       "      <td>no</td>\n",
       "    </tr>\n",
       "  </tbody>\n",
       "</table>\n",
       "</div>"
      ],
      "text/plain": [
       "  status\n",
       "0    yes\n",
       "1     no"
      ]
     },
     "execution_count": 161,
     "metadata": {},
     "output_type": "execute_result"
    }
   ],
   "source": [
    "df = pd.DataFrame({\n",
    "  'status':['yes', 'no']\n",
    "})\n",
    "\n",
    "df"
   ]
  },
  {
   "cell_type": "code",
   "execution_count": 162,
   "id": "6ed9035a",
   "metadata": {},
   "outputs": [],
   "source": [
    "df['status'] = df['status'].map({\n",
    "  'yes':1,\n",
    "  'no':0\n",
    "})"
   ]
  },
  {
   "cell_type": "code",
   "execution_count": 163,
   "id": "784b4a3c",
   "metadata": {},
   "outputs": [
    {
     "data": {
      "text/html": [
       "<div>\n",
       "<style scoped>\n",
       "    .dataframe tbody tr th:only-of-type {\n",
       "        vertical-align: middle;\n",
       "    }\n",
       "\n",
       "    .dataframe tbody tr th {\n",
       "        vertical-align: top;\n",
       "    }\n",
       "\n",
       "    .dataframe thead th {\n",
       "        text-align: right;\n",
       "    }\n",
       "</style>\n",
       "<table border=\"1\" class=\"dataframe\">\n",
       "  <thead>\n",
       "    <tr style=\"text-align: right;\">\n",
       "      <th></th>\n",
       "      <th>status</th>\n",
       "    </tr>\n",
       "  </thead>\n",
       "  <tbody>\n",
       "    <tr>\n",
       "      <th>0</th>\n",
       "      <td>1</td>\n",
       "    </tr>\n",
       "    <tr>\n",
       "      <th>1</th>\n",
       "      <td>0</td>\n",
       "    </tr>\n",
       "  </tbody>\n",
       "</table>\n",
       "</div>"
      ],
      "text/plain": [
       "   status\n",
       "0       1\n",
       "1       0"
      ]
     },
     "execution_count": 163,
     "metadata": {},
     "output_type": "execute_result"
    }
   ],
   "source": [
    "df"
   ]
  },
  {
   "cell_type": "code",
   "execution_count": 164,
   "id": "d812ede4",
   "metadata": {},
   "outputs": [
    {
     "data": {
      "text/plain": [
       "['APPLE', 'BANANA', 'CHERRY']"
      ]
     },
     "execution_count": 164,
     "metadata": {},
     "output_type": "execute_result"
    }
   ],
   "source": [
    "words = ['apple', 'banana', 'cherry']\n",
    "upper_word = list(map(str.upper, words))\n",
    "upper_word"
   ]
  },
  {
   "cell_type": "code",
   "execution_count": 166,
   "id": "dff1391e",
   "metadata": {},
   "outputs": [
    {
     "data": {
      "text/plain": [
       "['APPLE', 'BANANA', 'CHERRY']"
      ]
     },
     "execution_count": 166,
     "metadata": {},
     "output_type": "execute_result"
    }
   ],
   "source": [
    "nw_p = []\n",
    "for word in words:\n",
    "  new_word = word.upper()\n",
    "  nw_p.append(new_word)\n",
    "nw_p"
   ]
  },
  {
   "cell_type": "code",
   "execution_count": 167,
   "id": "8ebd6c0f",
   "metadata": {},
   "outputs": [
    {
     "data": {
      "text/plain": [
       "'said'"
      ]
     },
     "execution_count": 167,
     "metadata": {},
     "output_type": "execute_result"
    }
   ],
   "source": [
    "def get_name(person):\n",
    "    return person['name']\n",
    "\n",
    "person={\n",
    "    'name':'said',\n",
    "    'age':32\n",
    "}\n",
    "\n",
    "get_name(person)"
   ]
  },
  {
   "cell_type": "code",
   "execution_count": 170,
   "id": "694e658f",
   "metadata": {},
   "outputs": [
    {
     "data": {
      "text/plain": [
       "['said', 'olp']"
      ]
     },
     "execution_count": 170,
     "metadata": {},
     "output_type": "execute_result"
    }
   ],
   "source": [
    "people=[\n",
    "  {'name':'said','age':23},\n",
    "  {'name':'olp','age':13}\n",
    "]\n",
    "\n",
    "list(map(get_name, people))"
   ]
  },
  {
   "cell_type": "markdown",
   "id": "73237774",
   "metadata": {},
   "source": [
    "Filter() function in python"
   ]
  },
  {
   "cell_type": "code",
   "execution_count": 176,
   "id": "39a985f9",
   "metadata": {},
   "outputs": [
    {
     "name": "stdout",
     "output_type": "stream",
     "text": [
      "[0, 2, 4, 6, 8, 10, 12]\n"
     ]
    },
    {
     "data": {
      "text/plain": [
       "[0, 2, 4, 6, 8, 10, 12]"
      ]
     },
     "execution_count": 176,
     "metadata": {},
     "output_type": "execute_result"
    }
   ],
   "source": [
    "def evev(num):\n",
    "  if num % 2 == 0:\n",
    "    return True\n",
    "  \n",
    "lst = [0,1,2,3,4,5,6,7,8,9,10,11,12]\n",
    "print(list(filter(even, lst)))\n",
    "\n",
    "list(filter(lambda x: x % 2 == 0, lst))"
   ]
  },
  {
   "cell_type": "code",
   "execution_count": 177,
   "id": "f4421716",
   "metadata": {},
   "outputs": [
    {
     "data": {
      "text/plain": [
       "[6, 8, 10, 12]"
      ]
     },
     "execution_count": 177,
     "metadata": {},
     "output_type": "execute_result"
    }
   ],
   "source": [
    "even_and_greater_than_five = list(filter(lambda x: x % 2 == 0 and x > 5, lst))\n",
    "even_and_greater_than_five"
   ]
  },
  {
   "cell_type": "code",
   "execution_count": 186,
   "id": "f647f7b3",
   "metadata": {},
   "outputs": [
    {
     "data": {
      "text/plain": [
       "[None, 'mick', 'kate']"
      ]
     },
     "execution_count": 186,
     "metadata": {},
     "output_type": "execute_result"
    }
   ],
   "source": [
    "# Filter to check if the age is greater than 25 in dictionaries\n",
    "people=[\n",
    "  {'name':'said', 'age':12},\n",
    "  {'name':'mick', 'age':29},\n",
    "  {'name':'kate', 'age':26}\n",
    "]\n",
    "\n",
    "def greate_than_25(person):\n",
    "    if person['age'] > 25:\n",
    "         return person['name']\n",
    "    else:\n",
    "         pass\n",
    "\n",
    "greate_than_25s = list(map(greate_than_25, people))\n",
    "greate_than_25s"
   ]
  },
  {
   "cell_type": "code",
   "execution_count": null,
   "id": "e5dc811f",
   "metadata": {},
   "outputs": [],
   "source": []
  }
 ],
 "metadata": {
  "kernelspec": {
   "display_name": "Python 3",
   "language": "python",
   "name": "python3"
  },
  "language_info": {
   "codemirror_mode": {
    "name": "ipython",
    "version": 3
   },
   "file_extension": ".py",
   "mimetype": "text/x-python",
   "name": "python",
   "nbconvert_exporter": "python",
   "pygments_lexer": "ipython3",
   "version": "3.13.2"
  }
 },
 "nbformat": 4,
 "nbformat_minor": 5
}
