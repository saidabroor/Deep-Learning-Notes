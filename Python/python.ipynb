{
 "cells": [
  {
   "cell_type": "markdown",
   "id": "d417a9ff",
   "metadata": {},
   "source": [
    "Syntax - correct arangement of words and symbols."
   ]
  },
  {
   "cell_type": "markdown",
   "id": "dd98f793",
   "metadata": {},
   "source": [
    "Semantics - what the code does when it is run.\n",
    "Indentation - structure and hierarchy"
   ]
  },
  {
   "cell_type": "markdown",
   "id": "626cc04d",
   "metadata": {},
   "source": [
    "\\ is to create a new line when the line is becoming long.\n",
    "total = 3+3+4+5+6+7+3+2+4\\\n",
    "+24+2+3+4+5+5"
   ]
  },
  {
   "cell_type": "code",
   "execution_count": 5,
   "id": "76d81291",
   "metadata": {},
   "outputs": [
    {
     "data": {
      "text/plain": [
       "2"
      ]
     },
     "execution_count": 5,
     "metadata": {},
     "output_type": "execute_result"
    }
   ],
   "source": [
    "fruits = [1,4,3,7,8,9,1]\n",
    "# x = fruits.count(1)\n",
    "# print(x)\n",
    "fruits.count(1)"
   ]
  },
  {
   "cell_type": "code",
   "execution_count": 22,
   "id": "7013d521",
   "metadata": {},
   "outputs": [
    {
     "name": "stdout",
     "output_type": "stream",
     "text": [
      "3\n",
      "2\n",
      "1\n",
      "Boom!\n"
     ]
    }
   ],
   "source": [
    "import time\n",
    "count = 3\n",
    "while count > 0:\n",
    "  print(count)\n",
    "  time.sleep(0.3)\n",
    "  count-=1\n",
    "  if count == 0:\n",
    "    time.sleep(0.2)\n",
    "    print('Boom!')"
   ]
  },
  {
   "cell_type": "code",
   "execution_count": null,
   "id": "5ee06bfb",
   "metadata": {},
   "outputs": [
    {
     "name": "stdout",
     "output_type": "stream",
     "text": [
      "0\n",
      "1\n",
      "2\n",
      "3\n",
      "4\n"
     ]
    }
   ],
   "source": [
    "# The break statement exits the loop prematurely.\n",
    "for i in range(10):\n",
    "  if i == 5:\n",
    "    break\n",
    "  print(i)"
   ]
  },
  {
   "cell_type": "code",
   "execution_count": 25,
   "id": "0f1dac97",
   "metadata": {},
   "outputs": [
    {
     "name": "stdout",
     "output_type": "stream",
     "text": [
      "1\n",
      "3\n",
      "5\n",
      "7\n",
      "9\n"
     ]
    }
   ],
   "source": [
    "# The continue statement skip the current iteration and continues with the next.\n",
    "for i in range(10):\n",
    "    if i % 2 == 0:\n",
    "        continue\n",
    "    print(i)"
   ]
  },
  {
   "cell_type": "code",
   "execution_count": 26,
   "id": "6d60939c",
   "metadata": {},
   "outputs": [
    {
     "name": "stdout",
     "output_type": "stream",
     "text": [
      "0\n",
      "1\n",
      "2\n",
      "3\n",
      "4\n"
     ]
    }
   ],
   "source": [
    "# The pass statement is a null operation, it does nothing.\n",
    "for i in range(5):\n",
    "    if i == 3:\n",
    "        pass\n",
    "    print(i)"
   ]
  },
  {
   "cell_type": "code",
   "execution_count": 33,
   "id": "39ee6d52",
   "metadata": {},
   "outputs": [
    {
     "name": "stdout",
     "output_type": "stream",
     "text": [
      "Sum of first 10 natural number is 55\n"
     ]
    }
   ],
   "source": [
    "n = 10\n",
    "sum = 0\n",
    "count = 1\n",
    "while count <= n:\n",
    "    sum = sum + count\n",
    "    count = count + 1\n",
    "\n",
    "print(\"Sum of first 10 natural number is\",sum)"
   ]
  },
  {
   "cell_type": "code",
   "execution_count": 34,
   "id": "3a2ee504",
   "metadata": {},
   "outputs": [
    {
     "name": "stdout",
     "output_type": "stream",
     "text": [
      "1\n",
      "2\n",
      "3\n",
      "4\n",
      "5\n",
      "6\n",
      "7\n",
      "8\n",
      "9\n",
      "10\n"
     ]
    }
   ],
   "source": [
    "n = 10\n",
    "sum = 0\n",
    "count = 1\n",
    "while count <= n:\n",
    "    print(count)\n",
    "    # sum = sum + count\n",
    "    count = count + 1"
   ]
  },
  {
   "cell_type": "code",
   "execution_count": 48,
   "id": "06719837",
   "metadata": {},
   "outputs": [
    {
     "data": {
      "text/plain": [
       "3"
      ]
     },
     "execution_count": 48,
     "metadata": {},
     "output_type": "execute_result"
    }
   ],
   "source": [
    "7 // 2"
   ]
  },
  {
   "cell_type": "code",
   "execution_count": 50,
   "id": "2ff54dd2",
   "metadata": {},
   "outputs": [],
   "source": [
    "# for i in range(1,101):\n",
    "#     if i > 1:\n",
    "#         if i / 1 and i / i == 1:\n",
    "#             print(i)"
   ]
  },
  {
   "cell_type": "code",
   "execution_count": 51,
   "id": "36899795",
   "metadata": {},
   "outputs": [
    {
     "name": "stdout",
     "output_type": "stream",
     "text": [
      "2\n",
      "3\n",
      "5\n",
      "7\n",
      "11\n",
      "13\n",
      "17\n",
      "19\n",
      "23\n",
      "29\n",
      "31\n",
      "37\n",
      "41\n",
      "43\n",
      "47\n",
      "53\n",
      "59\n",
      "61\n",
      "67\n",
      "71\n",
      "73\n",
      "79\n",
      "83\n",
      "89\n",
      "97\n"
     ]
    }
   ],
   "source": [
    "for i in range(2, 101):  # Start from 2, since 1 is not prime\n",
    "    is_prime = True\n",
    "    for j in range(2, int(i ** 0.5) + 1):  # Check divisors up to sqrt(i)\n",
    "        if i % j == 0:\n",
    "            is_prime = False\n",
    "            break\n",
    "    if is_prime:\n",
    "        print(i)\n"
   ]
  },
  {
   "cell_type": "code",
   "execution_count": 53,
   "id": "1b694421",
   "metadata": {},
   "outputs": [
    {
     "name": "stdout",
     "output_type": "stream",
     "text": [
      "2\n",
      "3\n",
      "5\n",
      "7\n",
      "11\n",
      "13\n",
      "17\n",
      "19\n",
      "23\n",
      "29\n",
      "31\n",
      "37\n",
      "41\n",
      "43\n",
      "47\n",
      "53\n",
      "59\n",
      "61\n",
      "67\n",
      "71\n",
      "73\n",
      "79\n",
      "83\n",
      "89\n",
      "97\n"
     ]
    }
   ],
   "source": [
    "for num in range(1,101):\n",
    "  if num > 1:\n",
    "    for i in range(2,num):\n",
    "      if num%i==0:\n",
    "        break\n",
    "    else:\n",
    "        print(num)"
   ]
  },
  {
   "cell_type": "code",
   "execution_count": null,
   "id": "4a1648ab",
   "metadata": {},
   "outputs": [],
   "source": []
  }
 ],
 "metadata": {
  "kernelspec": {
   "display_name": "Python 3",
   "language": "python",
   "name": "python3"
  },
  "language_info": {
   "codemirror_mode": {
    "name": "ipython",
    "version": 3
   },
   "file_extension": ".py",
   "mimetype": "text/x-python",
   "name": "python",
   "nbconvert_exporter": "python",
   "pygments_lexer": "ipython3",
   "version": "3.13.2"
  }
 },
 "nbformat": 4,
 "nbformat_minor": 5
}
